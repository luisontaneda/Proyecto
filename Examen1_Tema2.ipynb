{
 "cells": [
  {
   "cell_type": "markdown",
   "metadata": {},
   "source": [
    "___\n",
    "<img style=\"float: right; margin: 0px 0px 15px 15px;\" src=\"https://www.carrerasenlinea.mx/logos/original/logo-instituto-tecnologico-y-de-estudios-superiores-de-occidente.png\" width=\"150px\" height=\"100px\" />\n",
    "\n",
    "\n",
    "# PRIMER EXAMEN PARCIAL\n",
    "# SIMULACIÓN DE PROCESOS FINANCIEROS\n",
    "\n",
    "## Nombre:\n",
    "\n",
    "## Fecha: 16 de marzo 2018"
   ]
  },
  {
   "cell_type": "code",
   "execution_count": 39,
   "metadata": {},
   "outputs": [],
   "source": [
    "import numpy as np\n",
    "import scipy as sc"
   ]
  },
  {
   "cell_type": "markdown",
   "metadata": {},
   "source": [
    "# 1.\n",
    "La financiera ”El cerdito feliz” atiende la apertura de cuentas de ahorro en su sucursal matriz, en esta sucursal se tienen 4 ejecutivos para atención al inversionista, teniendo una media de tiempo promedio para la atención de un cliente de 30 minutos, aunque con frecuencia se requiere que uno de los ejecutivos participe en juntas de evaluación de crédito, lo que provoca que el equipo de atención disminuya a 3 ejecutivos y en estas circunstancias el promedio de atención por cliente aumenta a 45 minutos. El tiempo entre la llegada de un cliente y otro nuevo es de 25 a 35 minutos, siguiendo una distribución uniforme (constante), si la sucursal apertura a las 9:00 a.m. y cierra su atención al público a las 14:00 horas, realiza una simulación de 1000 veces (escenarios) y responde\n",
    "   \n",
    "   a). ¿Cuántas personas se atenderán hasta las 14:00 horas, si el equipo está formado solo por 3 ejecutivos?, ¿cuántos quedarán en cola?\n",
    "   \n",
    "   b). ¿Cuántas personas se atenderán hasta las 14:00 horas, si el equipo está formado solo por 4 ejecutivos?, ¿Cuántos quedarán en cola?\n"
   ]
  },
  {
   "cell_type": "code",
   "execution_count": 48,
   "metadata": {},
   "outputs": [],
   "source": [
    "def p():\n",
    "    ti = 0\n",
    "    t = []\n",
    "    while ti < 300:\n",
    "        ti = 0\n",
    "        t.append(np.random.uniform(25,35.1))\n",
    "        ti = sum(t)\n",
    "        \n",
    "    return t\n",
    "    "
   ]
  },
  {
   "cell_type": "code",
   "execution_count": 50,
   "metadata": {},
   "outputs": [],
   "source": [
    "pred = [p() for i in range(1000)]"
   ]
  },
  {
   "cell_type": "markdown",
   "metadata": {},
   "source": [
    "# a)"
   ]
  },
  {
   "cell_type": "code",
   "execution_count": 65,
   "metadata": {},
   "outputs": [],
   "source": [
    "a = list(map(lambda x: len(x),pred ))\n",
    "at = int(300/45)\n",
    "col = list(map(lambda x: x - at, a))"
   ]
  },
  {
   "cell_type": "markdown",
   "metadata": {},
   "source": [
    "### Los clientes atendidos son 6.\n",
    "### Los que se quedan en la fila depende, varian entre 4 y 5."
   ]
  },
  {
   "cell_type": "markdown",
   "metadata": {},
   "source": [
    "# b)"
   ]
  },
  {
   "cell_type": "code",
   "execution_count": 84,
   "metadata": {},
   "outputs": [],
   "source": [
    "b = list(map(lambda x: len(x),pred ))\n",
    "bt = int(300/30)\n",
    "col = list(map(lambda x: x - bt, b))\n"
   ]
  },
  {
   "cell_type": "markdown",
   "metadata": {},
   "source": [
    "### Los clientes atendidos son 10.\n",
    "### Los que se quedan en la fila depende, varian entre 0 y 1."
   ]
  },
  {
   "cell_type": "markdown",
   "metadata": {},
   "source": [
    "# 2 \n",
    "a). Demuestre que la distribución de poisson satisface la siguiente forma recursiva de su probabilidad\n",
    "$$ p(k+1)={\\lambda \\over k+1}p(k)$$\n",
    "\n",
    "Realizar todo el desarrollo matemático en mardown usando ecuaciones latex.\n",
    "\n",
    "b). De el resultado demostrado en el inciso a) genere aletoriamente muestras que distribuyan poisson con parámetro lambda. Compare los resultados con los arrojados por la librería numpy."
   ]
  },
  {
   "cell_type": "markdown",
   "metadata": {},
   "source": [
    "\\begin{equation}\n",
    "E=m\n",
    "\\end{equation}"
   ]
  },
  {
   "cell_type": "markdown",
   "metadata": {},
   "source": [
    "# 3\n",
    "La PDF de una V.A exponencial esta dada por:\n",
    "$$f_X(x;\\lambda)=\\lambda e^{-\\lambda x}$$\n",
    "\n",
    "Encuentre la función de máxima verosimilitud para demostrar que la condición de optimalidad de primer orden conduce a \n",
    "\n",
    "$$\\hat \\lambda = {1\\over {1\\over n}\\sum_{i=1}^nX_i}={1 \\over \\bar X}$$"
   ]
  },
  {
   "cell_type": "markdown",
   "metadata": {},
   "source": [
    "# <font color = red> Nota: </font>\n",
    "\n",
    "Recuerde que maximizar la función de máxima verosimilitud $L(\\theta)$ es equivalente a maximizar su logaritmo $l(\\theta)= ln(L(\\theta))$\n",
    "\n",
    "> Referencia: Resultados obtenidos del libro:  Paolo Brandimarte -Handbook in Monte Carlo Simulation"
   ]
  },
  {
   "cell_type": "markdown",
   "metadata": {},
   "source": [
    "# 4\n",
    "Un banco, de acuerdo a la ley, tienen la posibilidad de poder invertir las utilidades logradas por créditos de trabajo quirografarios en dos diferentes instrumentos de inversión: El primero es inversión en deuda que presenta una utilidad promedio del 23.5% con una desviación estándar de 1.1%. El segundo es inversión a plazo donde la rentabilidad esperada se comporta como una distribución uniforme y está entre el -2% y el 9%, pero nunca entre -0.5% y 0.5%. Calcular cuál es la mejor combinación posible, si la inversión será en múltiplos de 25%, es decir (inv1 25%, Inv2 75%)-(Inv1 50%,Inv2 50%)-(Inv1 75%, Inv2 25%), simular 1000 veces (escenarios) e indicar rendimientos promedio por combinación."
   ]
  },
  {
   "cell_type": "code",
   "execution_count": 25,
   "metadata": {},
   "outputs": [],
   "source": [
    "def inv(x1,x2):\n",
    "    ni = []\n",
    "    pred = []\n",
    "    t = 0\n",
    "    while t < 1000:\n",
    "        ni.append(np.random.uniform(-2,9.1))\n",
    "        ni = [i for i in ni if not -.5 < i < .5]\n",
    "        t = len(ni)\n",
    "    \n",
    "    ni = [i/100 for i in ni]\n",
    "    \n",
    "    pred1 = (100*x1)*(np.random.normal(23.5,1.1,1000)/100)\n",
    "    \n",
    "    pred2 = list(map(lambda x: (100*x2)*x,ni))\n",
    "    \n",
    "    pred = pred1 + pred2\n",
    "    \n",
    "    return pred\n",
    "                 "
   ]
  },
  {
   "cell_type": "code",
   "execution_count": 38,
   "metadata": {},
   "outputs": [
    {
     "data": {
      "text/plain": [
       "[8.6322318100627, 13.678788950455733, 18.577667706531994]"
      ]
     },
     "execution_count": 38,
     "metadata": {},
     "output_type": "execute_result"
    }
   ],
   "source": [
    "invs = [np.mean(inv(.25,.75)),np.mean(inv(.5,.5)),np.mean(inv(.75,.25))]\n",
    "invs"
   ]
  },
  {
   "cell_type": "markdown",
   "metadata": {},
   "source": [
    "### La mejor opcion es la tercera ya que da el mayor rendimientos, 18.57"
   ]
  },
  {
   "cell_type": "markdown",
   "metadata": {},
   "source": [
    "# 5\n",
    "Considere la siguiente función de distribución de probabilidad\n",
    "$$ f(x)=\\begin{cases}400e^{-400(x-1)},& \\text{para }x\\geq 1\\\\0,& \\text{otro caso}\\end{cases}$$\n",
    "\n",
    "Se desea estimar la media de esta distribución, usando el método montecarlo crudo y sus técnicas de reducción de varianza con muestras de tamaño 10,100 y 1000. \n",
    "\n",
    "a). Para realizar una comparación, realice el desarrollo analítico del valor esperado.\n",
    "\n",
    "b). Realice el desarrollo teórico para obtener muestras aletorias de esta dstribución usando el método de la función inversa. Con los resultados obtenidos, genere 100 muestras y  grafique el histograma de dichas muestras aleatorias obtenidas y a su vez la función de densidad f(x), para validar los resultados obtenidos.\n",
    "\n",
    "c). Repita el inciso anterior pero en esta ocasión utilice el método de aceptación y rechazo para generar las muestras aleatorias.\n",
    "\n",
    "d). Use el método de montecarlo crudo para estimar la media.\n",
    "\n",
    "e). Use el método de muestreo estratificado con 5 estratos $0\\leq F(x)\\leq0.3, 0.3\\leq F(x)\\leq0.5, 0.5\\leq F(x)\\leq0.7, 0.7\\leq F(x)\\leq0.9 $ y $0.9\\leq F(x) \\leq 1$. Reparta el total de muestras en los estratos de la siguiente forma: estrato 1, 2, 3, 4, 5, 20%,20%,25%,15% y 20% de las muestras respectivamente.\n",
    "\n",
    "f). Use el método de los números complementarios.\n",
    "\n",
    "g). Finalmente use el método de estratificación en el cúal se divide en N estratos.\n",
    "\n",
    "h). Compare todos los resulados obtenidos con cada método en una tabla unsando la librería pandas, donde muestre segun la cantidad de términos usados, la aproximación de la media aproximada y su error relativo con el valor obtenido en el inciso a)."
   ]
  },
  {
   "cell_type": "code",
   "execution_count": 40,
   "metadata": {},
   "outputs": [
    {
     "ename": "AttributeError",
     "evalue": "module 'scipy' has no attribute 'integrate'",
     "output_type": "error",
     "traceback": [
      "\u001b[0;31m---------------------------------------------------------------------------\u001b[0m",
      "\u001b[0;31mAttributeError\u001b[0m                            Traceback (most recent call last)",
      "\u001b[0;32m<ipython-input-40-527bdf09daac>\u001b[0m in \u001b[0;36m<module>\u001b[0;34m()\u001b[0m\n\u001b[0;32m----> 1\u001b[0;31m \u001b[0man\u001b[0m \u001b[0;34m=\u001b[0m \u001b[0msc\u001b[0m\u001b[0;34m.\u001b[0m\u001b[0mintegrate\u001b[0m\u001b[0;34m.\u001b[0m\u001b[0mquad\u001b[0m\u001b[0;34m(\u001b[0m\u001b[0;36m400\u001b[0m\u001b[0;34m*\u001b[0m\u001b[0mnp\u001b[0m\u001b[0;34m.\u001b[0m\u001b[0mexp\u001b[0m\u001b[0;34m(\u001b[0m\u001b[0;34m-\u001b[0m\u001b[0;36m400\u001b[0m\u001b[0;34m(\u001b[0m\u001b[0mx\u001b[0m\u001b[0;34m-\u001b[0m\u001b[0;36m1\u001b[0m\u001b[0;34m)\u001b[0m\u001b[0;34m)\u001b[0m\u001b[0;34m)\u001b[0m\u001b[0;34m\u001b[0m\u001b[0m\n\u001b[0m",
      "\u001b[0;31mAttributeError\u001b[0m: module 'scipy' has no attribute 'integrate'"
     ]
    }
   ],
   "source": [
    "an = sc.integrate.quad(400*np.exp(-400(x-1)))"
   ]
  },
  {
   "attachments": {
    "imagen.png": {
     "image/png": "[encoded data removed]"
    }
   },
   "cell_type": "markdown",
   "metadata": {},
   "source": [
    "# 6\n",
    "![imagen.png](attachment:imagen.png)\n",
    "\n",
    "a). Use el método de montecarlo para aproximar el valor de pi para muestras de tamaño 100,1000,10000,1000000 y comparelo con su valor real. \n",
    "\n",
    "b). Repita el inciso anterior usando todos los método de reducción de varianza utilizados en el ejercicio *6*, para constrastar los resultados . Explique sus resultados."
   ]
  },
  {
   "cell_type": "markdown",
   "metadata": {},
   "source": [
    "**Valor de los ejercicios**\n",
    "- 1- 2 puntos\n",
    "- 2- 2 puntos\n",
    "- 3- 1 punto\n",
    "- 4- 1 punto\n",
    "- 5- 3 puntos\n",
    "- 6- 1 punto"
   ]
  },
  {
   "cell_type": "markdown",
   "metadata": {},
   "source": [
    "<script>\n",
    "  $(document).ready(function(){\n",
    "    $('div.prompt').hide();\n",
    "    $('div.back-to-top').hide();\n",
    "    $('nav#menubar').hide();\n",
    "    $('.breadcrumb').hide();\n",
    "    $('.hidden-print').hide();\n",
    "  });\n",
    "</script>\n",
    "\n",
    "<footer id=\"attribution\" style=\"float:right; color:#808080; background:#fff;\">\n",
    "Created with Jupyter by Oscar David Jaramillo Zuluaga.\n",
    "</footer>"
   ]
  }
 ],
 "metadata": {
  "kernelspec": {
   "display_name": "Python 3",
   "language": "python",
   "name": "python3"
  },
  "language_info": {
   "codemirror_mode": {
    "name": "ipython",
    "version": 3
   },
   "file_extension": ".py",
   "mimetype": "text/x-python",
   "name": "python",
   "nbconvert_exporter": "python",
   "pygments_lexer": "ipython3",
   "version": "3.6.4"
  }
 },
 "nbformat": 4,
 "nbformat_minor": 2
}
